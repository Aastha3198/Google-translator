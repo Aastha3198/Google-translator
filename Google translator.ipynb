{
 "cells": [
  {
   "cell_type": "markdown",
   "id": "476dea4e",
   "metadata": {},
   "source": [
    "# Project 2 - Google Translator"
   ]
  },
  {
   "cell_type": "code",
   "execution_count": 1,
   "id": "c9d32aeb",
   "metadata": {},
   "outputs": [
    {
     "name": "stdout",
     "output_type": "stream",
     "text": [
      "{'data': {'translations': [{'translatedText': 'ਤੁਸੀ ਕਿਵੇਂ ਹੋ'}]}}\n"
     ]
    }
   ],
   "source": [
    "import http.client\n",
    "import json\n",
    "\n",
    "conn = http.client.HTTPSConnection(\"google-translate1.p.rapidapi.com\")\n",
    "\n",
    "payload = \"q=How are you &target=pa&source=en\"\n",
    "\n",
    "headers = {\n",
    "    'content-type': \"application/x-www-form-urlencoded\",\n",
    "    'Accept-Encoding': \"application/gzip\",\n",
    "    'X-RapidAPI-Key': \"4ff4e4ab7fmshc259bb6b8da396bp1485f7jsnc80c8d8f5c45\",\n",
    "    'X-RapidAPI-Host': \"google-translate1.p.rapidapi.com\"\n",
    "}\n",
    "\n",
    "conn.request(\"POST\", \"/language/translate/v2\", payload, headers)\n",
    "\n",
    "res = conn.getresponse()\n",
    "data = res.read()\n",
    "\n",
    "mydata=json.loads(data.decode(\"utf-8\"))\n",
    "print(mydata)"
   ]
  },
  {
   "cell_type": "code",
   "execution_count": 2,
   "id": "9d5616c5",
   "metadata": {},
   "outputs": [
    {
     "name": "stdout",
     "output_type": "stream",
     "text": [
      "Enter your target language: hi\n",
      "Enter something: How are you\n",
      "आप कैसे हैं?\n"
     ]
    }
   ],
   "source": [
    "import http.client\n",
    "import json\n",
    "\n",
    "w=input(\"Enter your target language: \")\n",
    "m=input(\"Enter something: \")\n",
    "\n",
    "conn = http.client.HTTPSConnection(\"google-translate1.p.rapidapi.com\")\n",
    "\n",
    "payload = \"q=\"+m+\" &target=\"+w+\"&source=en\"\n",
    "\n",
    "headers = {\n",
    "    'content-type': \"application/x-www-form-urlencoded\",\n",
    "    'Accept-Encoding': \"application/gzip\",\n",
    "    'X-RapidAPI-Key': \"4ff4e4ab7fmshc259bb6b8da396bp1485f7jsnc80c8d8f5c45\",\n",
    "    'X-RapidAPI-Host': \"google-translate1.p.rapidapi.com\"\n",
    "}\n",
    "\n",
    "conn.request(\"POST\", \"/language/translate/v2\", payload, headers)\n",
    "\n",
    "res = conn.getresponse()\n",
    "data = res.read()\n",
    "\n",
    "mydata=json.loads(data.decode(\"utf-8\"))\n",
    "print(mydata['data']['translations'][0]['translatedText'])"
   ]
  },
  {
   "cell_type": "code",
   "execution_count": null,
   "id": "2cca11c2",
   "metadata": {},
   "outputs": [],
   "source": []
  }
 ],
 "metadata": {
  "kernelspec": {
   "display_name": "Python 3 (ipykernel)",
   "language": "python",
   "name": "python3"
  },
  "language_info": {
   "codemirror_mode": {
    "name": "ipython",
    "version": 3
   },
   "file_extension": ".py",
   "mimetype": "text/x-python",
   "name": "python",
   "nbconvert_exporter": "python",
   "pygments_lexer": "ipython3",
   "version": "3.11.4"
  }
 },
 "nbformat": 4,
 "nbformat_minor": 5
}
